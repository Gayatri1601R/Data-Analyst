{
  "nbformat": 4,
  "nbformat_minor": 0,
  "metadata": {
    "colab": {
      "name": "Untitled3.ipynb",
      "provenance": [],
      "authorship_tag": "ABX9TyOXhY1EJfH8JyNxHH2z4mVa",
      "include_colab_link": true
    },
    "kernelspec": {
      "name": "python3",
      "display_name": "Python 3"
    },
    "language_info": {
      "name": "python"
    }
  },
  "cells": [
    {
      "cell_type": "markdown",
      "metadata": {
        "id": "view-in-github",
        "colab_type": "text"
      },
      "source": [
        "<a href=\"https://colab.research.google.com/github/Gayatri1601R/Data-Analyst/blob/main/HandwrittenDetection.ipynb\" target=\"_parent\"><img src=\"https://colab.research.google.com/assets/colab-badge.svg\" alt=\"Open In Colab\"/></a>"
      ]
    },
    {
      "cell_type": "code",
      "execution_count": null,
      "metadata": {
        "id": "frJEKmxSMpoA"
      },
      "outputs": [],
      "source": [
        "from sklearn import datasets\n",
        "digits = datasets.load_digits()\n",
        "import matplotlib.pyplot as plt"
      ]
    },
    {
      "cell_type": "code",
      "source": [
        "main_data = digits['data']\n",
        "targets = digits['target']"
      ],
      "metadata": {
        "id": "etq5hOXUM6rt"
      },
      "execution_count": null,
      "outputs": []
    },
    {
      "cell_type": "code",
      "source": [
        "def view_digit(index):\n",
        "    plt.imshow(digits.images[index] , cmap = plt.cm.gray_r , interpolation = 'nearest')\n",
        "    plt.title('Orignal it is: '+ str(digits.target[index]))\n",
        "    plt.show()\n",
        "view_digit(17)"
      ],
      "metadata": {
        "colab": {
          "base_uri": "https://localhost:8080/",
          "height": 281
        },
        "id": "J4HeLDVFNHQr",
        "outputId": "18f66049-79f2-4bec-d5e9-d14e4fcf7870"
      },
      "execution_count": null,
      "outputs": [
        {
          "output_type": "display_data",
          "data": {
            "text/plain": [
              "<Figure size 432x288 with 1 Axes>"
            ],
            "image/png": "[encoded data removed]"
          },
          "metadata": {
            "needs_background": "light"
          }
        }
      ]
    },
    {
      "cell_type": "code",
      "source": [
        "# import the SVC\n",
        "from sklearn import svm\n",
        "svc = svm.SVC(gamma=0.001 , C = 100.) \n",
        "# gamma and C are hyperparameters\n",
        "# Training data = 1790 , Validation data = 6\n",
        "svc.fit(main_data[:1790] , targets[:1790])\n",
        "# predict on test data\n",
        "predictions = svc.predict(main_data[1791:])\n",
        "# check the result \n",
        "predictions , targets[1791:] "
      ],
      "metadata": {
        "colab": {
          "base_uri": "https://localhost:8080/"
        },
        "id": "_3FC5VVNNLMb",
        "outputId": "2ca990b5-41e3-4e5c-c520-9acac6ab5f64"
      },
      "execution_count": null,
      "outputs": [
        {
          "output_type": "execute_result",
          "data": {
            "text/plain": [
              "(array([4, 9, 0, 8, 9, 8]), array([4, 9, 0, 8, 9, 8]))"
            ]
          },
          "metadata": {},
          "execution_count": 7
        }
      ]
    },
    {
      "cell_type": "code",
      "source": [
        "# import the Classifier\n",
        "from sklearn.tree import DecisionTreeClassifier\n",
        "# Instanciate Model\n",
        "# we can also use criterion = 'entropy' both lead us to nearly same \n",
        "# result\n",
        "dt = DecisionTreeClassifier(criterion = 'gini') \n",
        "# fit the data on model\n",
        "# Training Set = 1600 , Validation Set = 197\n",
        "dt.fit(main_data[:1600] , targets[:1600])\n",
        "# prediction on test data\n",
        "predictions2 = dt.predict(main_data[1601:])\n",
        "# We use classification materics as accuracy_score\n",
        "# import accuracy_score\n",
        "from sklearn.metrics import accuracy_score\n",
        "accuracy_score(targets[1601:] , predictions2)"
      ],
      "metadata": {
        "colab": {
          "base_uri": "https://localhost:8080/"
        },
        "id": "PzlFRcM9Ntgo",
        "outputId": "5c733656-9278-4c9b-fa08-ec00569d0a4c"
      },
      "execution_count": null,
      "outputs": [
        {
          "output_type": "execute_result",
          "data": {
            "text/plain": [
              "0.7959183673469388"
            ]
          },
          "metadata": {},
          "execution_count": 8
        }
      ]
    },
    {
      "cell_type": "code",
      "source": [
        "from sklearn.ensemble import RandomForestClassifier\n",
        "# n_estimators hyperparameters( default 100 )\n",
        "rc = RandomForestClassifier(n_estimators = 150)\n",
        "# Training Data = 1500 , Validation data = 297\n",
        "rc.fit(main_data[:1500] , targets[:1500])\n",
        "predictions3 = rc.predict(main_data[1501:])\n",
        "accuracy_score(targets[1501:] , predictions3)"
      ],
      "metadata": {
        "colab": {
          "base_uri": "https://localhost:8080/"
        },
        "id": "jUMbpFihOCir",
        "outputId": "0bf7d56f-f00f-40a1-e7e2-a31d3e72f296"
      },
      "execution_count": null,
      "outputs": [
        {
          "output_type": "execute_result",
          "data": {
            "text/plain": [
              "0.9290540540540541"
            ]
          },
          "metadata": {},
          "execution_count": 9
        }
      ]
    },
    {
      "cell_type": "code",
      "source": [
        ""
      ],
      "metadata": {
        "id": "F0M80ZIjOHDD"
      },
      "execution_count": null,
      "outputs": []
    }
  ]
}